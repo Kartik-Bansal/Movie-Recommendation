{
 "cells": [
  {
   "cell_type": "code",
   "execution_count": 1,
   "metadata": {},
   "outputs": [
    {
     "name": "stderr",
     "output_type": "stream",
     "text": [
      "[nltk_data] Downloading package stopwords to\n",
      "[nltk_data]     C:\\Users\\karti\\AppData\\Roaming\\nltk_data...\n",
      "[nltk_data]   Package stopwords is already up-to-date!\n",
      "[nltk_data] Downloading package punkt to\n",
      "[nltk_data]     C:\\Users\\karti\\AppData\\Roaming\\nltk_data...\n",
      "[nltk_data]   Package punkt is already up-to-date!\n",
      "Using TensorFlow backend.\n"
     ]
    }
   ],
   "source": [
    "import nltk\n",
    "import os\n",
    "import glob\n",
    "from os import listdir\n",
    "from os.path import isfile, join\n",
    "nltk.download('stopwords')\n",
    "nltk.download('punkt')\n",
    "from nltk import sent_tokenize, word_tokenize\n",
    "from nltk.corpus import stopwords\n",
    "import string\n",
    "from keras.models import Sequential\n",
    "from keras.layers import Dense, Embedding, LSTM, GRU\n",
    "from keras.layers.embeddings import Embedding\n",
    "from keras.initializers import Constant\n",
    "import numpy as np\n",
    "from tensorflow.python.keras.preprocessing.text import Tokenizer\n",
    "from tensorflow.python.keras.preprocessing.sequence import pad_sequences\n",
    "from sklearn import model_selection\n",
    "import tensorflow as tf\n",
    "import gensim\n",
    "import pandas as pd "
   ]
  },
  {
   "cell_type": "code",
   "execution_count": 155,
   "metadata": {},
   "outputs": [],
   "source": [
    "movie_names=[]\n",
    "onlyfiles = [f for f in listdir(\"C:/Users/karti/Desktop/CNA projects/ML projects/movie_recommendation/imdb_scraped/\") if isfile(join(\"C:/Users/karti/Desktop/CNA projects/ML projects/movie_recommendation/imdb_scraped/\", f))]\n",
    "movie_names = [sub[ : -7] for sub in onlyfiles]\n",
    "movie_names = [w.replace('_', ' ') for w in movie_names]\n",
    "file_list = []\n",
    "i=0\n",
    "k=0\n",
    "for file in os.listdir():\n",
    "    if file.endswith('.tsv'):\n",
    "        df = pd.read_csv(file,sep=\"\\t\")\n",
    "        df['Movie_name']=movie_names[k]\n",
    "        file_list.append(df)\n",
    "        k=k+1\n",
    "all_movies = pd.concat(file_list, ignore_index=True)\n",
    "all_movies.to_csv( \"combined_csv.csv\", index=False, encoding='utf-8-sig')"
   ]
  },
  {
   "cell_type": "code",
   "execution_count": null,
   "metadata": {},
   "outputs": [],
   "source": [
    "df=pd.read_csv('combined_csv.csv')\n",
    "length=df.shape[0]\n",
    "df['Reviews']=df['Comment Head'] + df['Comment Body']\n",
    "df[\"Reviews\"].fillna(df['Comment Head'], inplace = True)\n",
    "df=df.dropna(how='any')\n",
    "df=df.drop(['Comment Body','Comment Head'],axis=1)\n",
    "df.to_csv('combined_csv.csv')"
   ]
  },
  {
   "cell_type": "code",
   "execution_count": 2,
   "metadata": {},
   "outputs": [],
   "source": [
    "punctuations = list(string.punctuation)\n",
    "stop = stopwords.words('english')\n",
    "dummy_stop = []\n",
    "for word in stop:\n",
    "    dummy = word[0].upper()+word[1:]\n",
    "    dummy_stop.append(dummy)\n",
    "stop = stop+dummy_stop"
   ]
  },
  {
   "cell_type": "code",
   "execution_count": 3,
   "metadata": {},
   "outputs": [],
   "source": [
    "reviews=[]\n",
    "with open('combined_csv.csv','r', encoding='utf8', errors='ignore') as fp:\n",
    "    lines=fp.readlines()\n",
    "for line in lines:\n",
    "    words=word_tokenize(line)\n",
    "    for i in range(len(words)):\n",
    "        dummy=\"\"\n",
    "        for j in range(len(words[i])):\n",
    "            if not words[i][j] in punctuations:\n",
    "                dummy += words[i][j]\n",
    "        words[i] = dummy\n",
    "    clean_words=[w for w in words if not w in stop]\n",
    "    clean_sym_words = [w for w in clean_words if w.isalpha()]\n",
    "    reviews.append(clean_sym_words[0:len(clean_sym_words)-1])"
   ]
  },
  {
   "cell_type": "code",
   "execution_count": 15,
   "metadata": {},
   "outputs": [],
   "source": [
    "tokenized_obj = Tokenizer()\n",
    "tokenized_obj.fit_on_texts(reviews)\n",
    "sequences = tokenized_obj.texts_to_sequences(reviews)\n",
    "word_index = tokenized_obj.word_index\n",
    "maxLength = 0\n",
    "for review in sequences:\n",
    "    if maxLength < len(review):\n",
    "        maxLength = len(review)"
   ]
  },
  {
   "cell_type": "code",
   "execution_count": 46,
   "metadata": {},
   "outputs": [],
   "source": [
    "embeddings = {}\n",
    "with open('combined_csv.csv','r', encoding='utf8', errors='ignore') as fp:\n",
    "    for line in fp:\n",
    "        val = line.split()\n",
    "        word = val[0]\n",
    "        vector_coefs = np.asarray(val[1:])\n",
    "        if word in word_index.keys():\n",
    "            embeddings[word]=vector_coefs\n",
    "fp.close()"
   ]
  },
  {
   "cell_type": "code",
   "execution_count": 41,
   "metadata": {},
   "outputs": [],
   "source": [
    "review_pad = pad_sequences(sequences, maxlen = maxLength)\n",
    "df=pd.read_csv('combined_csv.csv')\n",
    "rating=df['Comment_Rating'] \n",
    "rating = np.asarray(rating)\n",
    "review_pad = pad_sequences(sequences, maxlen = maxLength)"
   ]
  },
  {
   "cell_type": "code",
   "execution_count": 47,
   "metadata": {},
   "outputs": [],
   "source": [
    "EmbeddingDim = 300\n",
    "num_words = len(word_index)+1\n",
    "embedding_matrix  = np.zeros((num_words, EmbeddingDim))\n",
    "for word, i in word_index.items():\n",
    "    embedding_vector = embeddings.get(word)\n",
    "    if embedding_vector is not None:\n",
    "        embedding_matrix[i] = embedding_vector"
   ]
  },
  {
   "cell_type": "code",
   "execution_count": 64,
   "metadata": {},
   "outputs": [],
   "source": [
    "rating_checklist = [0, 1, 2, 3, 4, 5, 6, 7, 8, 9, 10]\n",
    "rating_matrix = np.zeros((len(rating), 11))\n",
    "for i in range(0,len(rating)):\n",
    "    if rating[i] in rating_checklist:\n",
    "        rating_matrix[i][int(rating[i])] = 1"
   ]
  },
  {
   "cell_type": "code",
   "execution_count": 73,
   "metadata": {},
   "outputs": [],
   "source": [
    "train_model = Sequential()\n",
    "embedding_layer = Embedding(num_words, EmbeddingDim, embeddings_initializer = Constant(embedding_matrix), input_length = maxLength, trainable = False)\n",
    "train_model.add(embedding_layer)\n",
    "train_model.add(GRU(units = 200))\n",
    "train_model.add(Dense(11,activation = 'sigmoid'))\n",
    "train_model.compile(loss = 'categorical_crossentropy', optimizer = 'adam', metrics = ['accuracy'])"
   ]
  },
  {
   "cell_type": "code",
   "execution_count": null,
   "metadata": {},
   "outputs": [],
   "source": [
    "X_train, X_test, Y_train, Y_test = model_selection.train_test_split(review_pad[1:166610], rating_matrix)\n",
    "train_model.fit(X_train, Y_train, epochs = 5, batch_size = 32)"
   ]
  },
  {
   "cell_type": "code",
   "execution_count": null,
   "metadata": {},
   "outputs": [],
   "source": [
    "loss, accuracy = train_model.evaluate(X_test, Y_test)\n",
    "print(accuracy*100)"
   ]
  },
  {
   "cell_type": "code",
   "execution_count": null,
   "metadata": {},
   "outputs": [],
   "source": [
    "aggregation_functions = {'Reviews': 'sum', 'Comment_Rating': 'mean', 'Movie_name': 'first'}\n",
    "df_new = df.groupby(df['Movie_name']).aggregate(aggregation_functions)"
   ]
  },
  {
   "cell_type": "code",
   "execution_count": 47,
   "metadata": {},
   "outputs": [],
   "source": [
    "genres_list=['action','adventure' ,'anime','children','family' ,'classic','comedy' ,'documentaries','dramas','horror'\n",
    "        'musical','romantic','sci-fi', 'biography','thrillers','tV shows']\n",
    "genres1=[]\n",
    "genres2=[]\n",
    "genres3=[]\n",
    "genres4=[]\n",
    "for i in range(0,df_new.shape[0]):\n",
    "    pos=0\n",
    "    Movie_genre=[]\n",
    "    genres_list=['action','adventure' ,'anime','children','family' ,'classic','comedy' ,'documentaries','dramas','horror','musical','romantic','sci-fi', 'biography','thrillers','tV shows']\n",
    "    Movie_genre.append(df_new['Reviews'][i].count(genres_list[0]))\n",
    "    Movie_genre.append(df_new['Reviews'][i].count(genres_list[1]))\n",
    "    Movie_genre.append(df_new['Reviews'][i].count(genres_list[2]))\n",
    "    Movie_genre.append(df_new['Reviews'][i].count(genres_list[3]))\n",
    "    Movie_genre.append(df_new['Reviews'][i].count(genres_list[4]))\n",
    "    Movie_genre.append(df_new['Reviews'][i].count(genres_list[5]))\n",
    "    Movie_genre.append(df_new['Reviews'][i].count(genres_list[6]))\n",
    "    Movie_genre.append(df_new['Reviews'][i].count(genres_list[7]))\n",
    "    Movie_genre.append(df_new['Reviews'][i].count(genres_list[8]))\n",
    "    Movie_genre.append(df_new['Reviews'][i].count(genres_list[9]))\n",
    "    Movie_genre.append(df_new['Reviews'][i].count(genres_list[10]))\n",
    "    Movie_genre.append(df_new['Reviews'][i].count(genres_list[11]))\n",
    "    Movie_genre.append(df_new['Reviews'][i].count(genres_list[12]))\n",
    "    Movie_genre.append(df_new['Reviews'][i].count(genres_list[13]))\n",
    "    Movie_genre.append(df_new['Reviews'][i].count(genres_list[14]))\n",
    "    Movie_genre.append(df_new['Reviews'][i].count(genres_list[15]))\n",
    "    pos=Movie_genre.index(max(Movie_genre))\n",
    "    genres1.append(genres_list[pos])\n",
    "    Movie_genre.pop(pos)\n",
    "    genres_list.pop(pos)\n",
    "    pos=Movie_genre.index(max(Movie_genre))\n",
    "    genres2.append(genres_list[pos])\n",
    "    Movie_genre.pop(pos)\n",
    "    genres_list.pop(pos)\n",
    "    pos=Movie_genre.index(max(Movie_genre))\n",
    "    genres3.append(genres_list[pos])\n",
    "    Movie_genre.pop(pos)\n",
    "    genres_list.pop(pos)\n",
    "    pos=Movie_genre.index(max(Movie_genre))\n",
    "    genres4.append(genres_list[pos])\n",
    "    Movie_genre.pop(pos)\n",
    "    genres_list.pop(pos)\n",
    "    genres_list.clear()\n",
    "    Movie_genre.clear()"
   ]
  },
  {
   "cell_type": "code",
   "execution_count": 49,
   "metadata": {},
   "outputs": [
    {
     "data": {
      "text/html": [
       "<div>\n",
       "<style scoped>\n",
       "    .dataframe tbody tr th:only-of-type {\n",
       "        vertical-align: middle;\n",
       "    }\n",
       "\n",
       "    .dataframe tbody tr th {\n",
       "        vertical-align: top;\n",
       "    }\n",
       "\n",
       "    .dataframe thead th {\n",
       "        text-align: right;\n",
       "    }\n",
       "</style>\n",
       "<table border=\"1\" class=\"dataframe\">\n",
       "  <thead>\n",
       "    <tr style=\"text-align: right;\">\n",
       "      <th></th>\n",
       "      <th>Reviews</th>\n",
       "      <th>Comment_Rating</th>\n",
       "      <th>Movie_name</th>\n",
       "      <th>Genre 1</th>\n",
       "      <th>Genre 2</th>\n",
       "      <th>Genre 3</th>\n",
       "      <th>Genre 4</th>\n",
       "    </tr>\n",
       "    <tr>\n",
       "      <th>Movie_name</th>\n",
       "      <th></th>\n",
       "      <th></th>\n",
       "      <th></th>\n",
       "      <th></th>\n",
       "      <th></th>\n",
       "      <th></th>\n",
       "      <th></th>\n",
       "    </tr>\n",
       "  </thead>\n",
       "  <tbody>\n",
       "    <tr>\n",
       "      <th>2012</th>\n",
       "      <td>The Disaster is THE MOVIE!2012 cost 260 milli...</td>\n",
       "      <td>4.904570</td>\n",
       "      <td>2012</td>\n",
       "      <td>action</td>\n",
       "      <td>family</td>\n",
       "      <td>children</td>\n",
       "      <td>comedy</td>\n",
       "    </tr>\n",
       "    <tr>\n",
       "      <th>21   Over</th>\n",
       "      <td>Horrendously bad and unfunnyThis is a movie y...</td>\n",
       "      <td>5.704918</td>\n",
       "      <td>21   Over</td>\n",
       "      <td>comedy</td>\n",
       "      <td>adventure</td>\n",
       "      <td>action</td>\n",
       "      <td>children</td>\n",
       "    </tr>\n",
       "    <tr>\n",
       "      <th>21 Jump Street</th>\n",
       "      <td>Gets Old Fast (spoilers)This movie seems to b...</td>\n",
       "      <td>6.722449</td>\n",
       "      <td>21 Jump Street</td>\n",
       "      <td>comedy</td>\n",
       "      <td>action</td>\n",
       "      <td>classic</td>\n",
       "      <td>children</td>\n",
       "    </tr>\n",
       "    <tr>\n",
       "      <th>42</th>\n",
       "      <td>Very Well DoneYou probably think this film is...</td>\n",
       "      <td>8.486957</td>\n",
       "      <td>42</td>\n",
       "      <td>action</td>\n",
       "      <td>family</td>\n",
       "      <td>children</td>\n",
       "      <td>classic</td>\n",
       "    </tr>\n",
       "    <tr>\n",
       "      <th>50 50</th>\n",
       "      <td>50/50I think what makes 50/50 such a success ...</td>\n",
       "      <td>7.974576</td>\n",
       "      <td>50 50</td>\n",
       "      <td>comedy</td>\n",
       "      <td>family</td>\n",
       "      <td>action</td>\n",
       "      <td>romantic</td>\n",
       "    </tr>\n",
       "  </tbody>\n",
       "</table>\n",
       "</div>"
      ],
      "text/plain": [
       "                                                           Reviews  \\\n",
       "Movie_name                                                           \n",
       "2012              The Disaster is THE MOVIE!2012 cost 260 milli...   \n",
       "21   Over         Horrendously bad and unfunnyThis is a movie y...   \n",
       "21 Jump Street    Gets Old Fast (spoilers)This movie seems to b...   \n",
       "42                Very Well DoneYou probably think this film is...   \n",
       "50 50             50/50I think what makes 50/50 such a success ...   \n",
       "\n",
       "                 Comment_Rating       Movie_name Genre 1    Genre 2   Genre 3  \\\n",
       "Movie_name                                                                      \n",
       "2012                   4.904570             2012  action     family  children   \n",
       "21   Over              5.704918       21   Over   comedy  adventure    action   \n",
       "21 Jump Street         6.722449  21 Jump Street   comedy     action   classic   \n",
       "42                     8.486957               42  action     family  children   \n",
       "50 50                  7.974576           50 50   comedy     family    action   \n",
       "\n",
       "                  Genre 4  \n",
       "Movie_name                 \n",
       "2012               comedy  \n",
       "21   Over        children  \n",
       "21 Jump Street   children  \n",
       "42                classic  \n",
       "50 50            romantic  "
      ]
     },
     "execution_count": 49,
     "metadata": {},
     "output_type": "execute_result"
    }
   ],
   "source": [
    "df_new['Genre 1']=genres1\n",
    "df_new['Genre 2']=genres2\n",
    "df_new['Genre 3']=genres3\n",
    "df_new['Genre 4']=genres4\n",
    "df_new.head()"
   ]
  },
  {
   "cell_type": "code",
   "execution_count": 50,
   "metadata": {},
   "outputs": [],
   "source": [
    "df_new=df_new.drop(['Reviews'],axis=1)"
   ]
  },
  {
   "cell_type": "code",
   "execution_count": 51,
   "metadata": {},
   "outputs": [],
   "source": [
    "df_new.to_csv('Movie Recommender.csv')"
   ]
  },
  {
   "cell_type": "code",
   "execution_count": null,
   "metadata": {},
   "outputs": [],
   "source": []
  }
 ],
 "metadata": {
  "kernelspec": {
   "display_name": "Python 3",
   "language": "python",
   "name": "python3"
  },
  "language_info": {
   "codemirror_mode": {
    "name": "ipython",
    "version": 3
   },
   "file_extension": ".py",
   "mimetype": "text/x-python",
   "name": "python",
   "nbconvert_exporter": "python",
   "pygments_lexer": "ipython3",
   "version": "3.7.6"
  }
 },
 "nbformat": 4,
 "nbformat_minor": 4
}
